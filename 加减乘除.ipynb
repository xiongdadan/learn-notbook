{
 "cells": [
  {
   "cell_type": "markdown",
   "metadata": {},
   "source": [
    "# None类型\n",
    "    -表示没有，通常用来占位\n",
    "    -比如返回，用来表示返回一个空"
   ]
  },
  {
   "cell_type": "markdown",
   "metadata": {},
   "source": [
    "# 表达式\n",
    "-1.。。。\n",
    "-2.。。\n",
    "# 运算符\n",
    "  - 1.\n",
    "  。\n",
    "  。\n",
    "  。\n",
    "  。。\n",
    "  "
   ]
  },
  {
   "cell_type": "code",
   "execution_count": 5,
   "metadata": {},
   "outputs": [
    {
     "name": "stdout",
     "output_type": "stream",
     "text": [
      "3\n",
      "2\n"
     ]
    }
   ],
   "source": [
    "a = 1 + 2\n",
    "b = 1 + 1\n",
    "print(a)\n",
    "print(b)"
   ]
  },
  {
   "cell_type": "code",
   "execution_count": 6,
   "metadata": {},
   "outputs": [
    {
     "name": "stdout",
     "output_type": "stream",
     "text": [
      "1\n"
     ]
    }
   ],
   "source": [
    "c = 100 - 99\n",
    "print(c)"
   ]
  },
  {
   "cell_type": "code",
   "execution_count": 15,
   "metadata": {},
   "outputs": [
    {
     "name": "stdout",
     "output_type": "stream",
     "text": [
      "6.5\n",
      "6\n",
      "1\n",
      "1\n",
      "-3\n",
      "-2.25\n"
     ]
    }
   ],
   "source": [
    "d = 13 / 2\n",
    "print(d)\n",
    "f = 13 // 2#地板除取整数\n",
    "print(f)\n",
    "g = 13 % 2#取余数\n",
    "print(g)\n",
    "h = 9 % 4\n",
    "print(h)\n",
    "i = 9 % -4\n",
    "print(i)\n",
    "j = 9 / -4\n",
    "print(j)"
   ]
  },
  {
   "cell_type": "code",
   "execution_count": null,
   "metadata": {},
   "outputs": [],
   "source": []
  }
 ],
 "metadata": {
  "kernelspec": {
   "display_name": "Python 3",
   "language": "python",
   "name": "python3"
  },
  "language_info": {
   "codemirror_mode": {
    "name": "ipython",
    "version": 3
   },
   "file_extension": ".py",
   "mimetype": "text/x-python",
   "name": "python",
   "nbconvert_exporter": "python",
   "pygments_lexer": "ipython3",
   "version": "3.7.0"
  }
 },
 "nbformat": 4,
 "nbformat_minor": 2
}
