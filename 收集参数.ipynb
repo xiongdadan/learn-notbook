{
 "cells": [
  {
   "cell_type": "markdown",
   "metadata": {},
   "source": [
    "# 收集参数 \n",
    "- 把没有位置，不能和定义时的参数位置相互对应的参数，放入一个特定的数据结构中\n",
    "- 语法：\n",
    "            \n",
    "            \n",
    "            def func(*args):\n",
    "            func_body\n",
    "            按照list使用方式访问args得到传入的参数\n",
    "            \n",
    "            \n",
    "            调用：\n",
    "            func(p1,p2,p3,......)\n",
    "- 参数名args不是必须这么写，但是约定俗成\n",
    "- args前面需要有*号\n",
    "- 收集参数可以与其他参数共存"
   ]
  },
  {
   "cell_type": "code",
   "execution_count": 2,
   "metadata": {},
   "outputs": [
    {
     "name": "stdout",
     "output_type": "stream",
     "text": [
      "hello,大家好\n",
      "<class 'tuple'>\n",
      "我叫熊大胆\n",
      "今年23岁\n",
      "毕业于云南交通职业技术学院\n",
      "兴趣爱好广泛\n",
      "请多多关照\n",
      "hello,大家好\n",
      "<class 'tuple'>\n",
      "我叫蔚\n",
      "代表不羁的卫士\n"
     ]
    }
   ],
   "source": [
    "# 收集参数案例\n",
    "# hanshu函数模拟学生进行自我介绍\n",
    "def stu(*args):\n",
    "    print(\"hello,大家好\")\n",
    "    #type函数作用是检测变量的类型#为什么需要检测呢？#通过实验可看出\n",
    "    print(type(args))\n",
    "    for item in args:\n",
    "        print(item)\n",
    "\n",
    "\n",
    "\n",
    "stu(\"我叫熊大胆\",\"今年23岁\",\"毕业于云南交通职业技术学院\",\"兴趣爱好广泛\",\"请多多关照\")\n",
    "stu(\"我叫蔚\",\"代表不羁的卫士\")"
   ]
  },
  {
   "cell_type": "code",
   "execution_count": 3,
   "metadata": {},
   "outputs": [
    {
     "name": "stdout",
     "output_type": "stream",
     "text": [
      "hello,大家好\n",
      "<class 'tuple'>\n"
     ]
    }
   ],
   "source": [
    "#收集参数案例\n",
    "#说明收集参数可以不带任何实参调用，此时收集参数为空tuple\n",
    "stu()"
   ]
  },
  {
   "cell_type": "code",
   "execution_count": 4,
   "metadata": {},
   "outputs": [
    {
     "name": "stdout",
     "output_type": "stream",
     "text": [
      "hello,大家好\n",
      "我叫熊大胆\n",
      "今年23岁\n",
      "毕业于云南交通职业技术学院\n",
      "兴趣爱好广泛\n",
      "请多多关照\n",
      "hello,大家好\n",
      "我叫蔚\n",
      "代表不羁的卫士\n"
     ]
    }
   ],
   "source": [
    "def stdd(*ars):\n",
    "    print(\"hello,大家好\")\n",
    "    #type函数作用是检测变量的类型#为什么需要检测呢？\n",
    "    for it in ars:\n",
    "        print(it)\n",
    "\n",
    "\n",
    "\n",
    "stdd(\"我叫熊大胆\",\"今年23岁\",\"毕业于云南交通职业技术学院\",\"兴趣爱好广泛\",\"请多多关照\")\n",
    "stdd(\"我叫蔚\",\"代表不羁的卫士\")"
   ]
  },
  {
   "cell_type": "code",
   "execution_count": 5,
   "metadata": {},
   "outputs": [
    {
     "name": "stdout",
     "output_type": "stream",
     "text": [
      "hello,大家好\n"
     ]
    }
   ],
   "source": [
    "stdd()"
   ]
  },
  {
   "cell_type": "markdown",
   "metadata": {},
   "source": [
    "# 关键字收集参数\n",
    "- 把关键字参数按字典格式存入收集参数\n",
    "- 语法：\n",
    "\n",
    "        \n",
    "        def func(**kwargs):\n",
    "            func_body\n",
    "            \n",
    "            \n",
    "        调用：\n",
    "        func(p1 = vi,p2 = v2,......)\n",
    "- kwargs 一般约定俗成\n",
    "- 调用时把多余的关键字参数放入kwargs\n",
    "- 访问kwargs需要按字典格式访问"
   ]
  },
  {
   "cell_type": "code",
   "execution_count": 7,
   "metadata": {},
   "outputs": [
    {
     "name": "stdout",
     "output_type": "stream",
     "text": [
      "嗨喽，大家好\n",
      "<class 'dict'>\n",
      "name —— 熊大胆\n",
      "age —— 23\n",
      "add —— 昆明\n"
     ]
    }
   ],
   "source": [
    "def stu2(**kwargs):\n",
    "    print(\"嗨喽，大家好\")\n",
    "    print(type(kwargs))#体内使用不带*号\n",
    "    for k,v in kwargs.items():#字典的访问\n",
    "        print(k,\"——\",v)\n",
    "    \n",
    "    \n",
    "stu2(name = \"熊大胆\",age = 23,add = \"昆明\")"
   ]
  },
  {
   "cell_type": "code",
   "execution_count": 8,
   "metadata": {},
   "outputs": [
    {
     "name": "stdout",
     "output_type": "stream",
     "text": [
      "嗨喽，大家好\n",
      "<class 'dict'>\n"
     ]
    }
   ],
   "source": [
    "stu2()"
   ]
  },
  {
   "cell_type": "markdown",
   "metadata": {},
   "source": [
    "# s收集参数混合调用的顺序问题\n",
    "- 收集参数，关键字参数，普通参数可以混用\n",
    "- 使用规则就是普通参数和关键字参数优先\n",
    "- 定义的时候一般找普通参数，关键字参数，收集参数tuple，收集参数dict"
   ]
  },
  {
   "cell_type": "code",
   "execution_count": 32,
   "metadata": {},
   "outputs": [
    {
     "name": "stdout",
     "output_type": "stream",
     "text": [
      "大家好\n",
      "我叫megatron,今年23岁。\n",
      "我现在暂时没有爱好\n",
      "——————————————————————————————\n",
      "************************************************************\n",
      "大家好\n",
      "我叫megatron,今年23岁。\n",
      "我的爱好是游泳\n",
      "——————————————————————————————\n",
      "************************************************************\n",
      "大家好\n",
      "我叫megatron,今年23岁。\n",
      "我的爱好是游泳\n",
      "——————————————————————————————\n",
      "吴泽婷\n",
      "************************************************************\n",
      "hobby2 -- 打篮球\n",
      "hobby4 -- junp\n"
     ]
    }
   ],
   "source": [
    "#收集参数混合调用案例\n",
    "def stu3(name,age,*args,hobby=\"没有\",**kwargs):#就是顺序不能错\n",
    "    print(\"大家好\")\n",
    "    print(\"我叫{0},今年{1}岁。\".format(name,age))\n",
    "    if hobby == \"没有\":\n",
    "        print(\"我现在暂时没有爱好\")\n",
    "    else:\n",
    "        print(\"我的爱好是{0}\".format(hobby))\n",
    "    print(\"——\"*15)\n",
    "    \n",
    "    for i in args:\n",
    "        print(i)\n",
    "        \n",
    "    print(\"**\"*30)    \n",
    "    \n",
    "    \n",
    "    for k,v in kwargs.items():\n",
    "        print(k,\"--\",v)\n",
    "        \n",
    "        \n",
    "# 开始调用\n",
    "name = \"megatron\"\n",
    "age = 23\n",
    "stu3(name,age)\n",
    "stu3(name,age,hobby = \"游泳\")\n",
    "stu3(name,age,\"吴泽婷\",hobby = \"游泳\",hobby2 =\"打篮球\",hobby4 =\"junp\")"
   ]
  },
  {
   "cell_type": "markdown",
   "metadata": {},
   "source": [
    "# 收集参数的解包问题\n",
    "- 把参数放入list或字典中，直接把list/dict中的值放入收集参数中\n",
    "-语法见下"
   ]
  },
  {
   "cell_type": "code",
   "execution_count": 34,
   "metadata": {},
   "outputs": [
    {
     "name": "stdout",
     "output_type": "stream",
     "text": [
      "ffff哈哈哈哈\n",
      "sdfwerg\n",
      "megatron\n"
     ]
    }
   ],
   "source": [
    "#收集参数的解包\n",
    "def stu4(*args):\n",
    "    print(\"ffff哈哈哈哈\")\n",
    "    for g in args:\n",
    "        print(g)\n",
    "        \n",
    "        \n",
    "        \n",
    "stu4(\"sdfwerg\",\"megatron\")"
   ]
  }
 ],
 "metadata": {
  "kernelspec": {
   "display_name": "Python 3",
   "language": "python",
   "name": "python3"
  },
  "language_info": {
   "codemirror_mode": {
    "name": "ipython",
    "version": 3
   },
   "file_extension": ".py",
   "mimetype": "text/x-python",
   "name": "python",
   "nbconvert_exporter": "python",
   "pygments_lexer": "ipython3",
   "version": "3.7.0"
  }
 },
 "nbformat": 4,
 "nbformat_minor": 2
}
