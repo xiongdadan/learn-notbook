{
 "cells": [
  {
   "cell_type": "markdown",
   "metadata": {},
   "source": [
    "# 函数讲义\n",
    "- 函数的参数和返回值\n",
    "    - 参数：形参：在函数定义时用于占位\n",
    "           实参：调用函数时输入的值\n",
    "    - 返回值：调用函数的时候返回一个结果\n",
    "      - 使用return返回结果\n",
    "      -如果没有值需要返回，使用return None表示函数结束\n",
    "- 函数一旦执行return，函数立即结束\n",
    "- 如果没有return，函数默认返回None\n",
    "    "
   ]
  },
  {
   "cell_type": "code",
   "execution_count": 6,
   "metadata": {},
   "outputs": [
    {
     "name": "stdout",
     "output_type": "stream",
     "text": [
      "卧槽,你好吗? \n",
      "卧槽,我最近很烦。\n"
     ]
    }
   ],
   "source": [
    "def hello(renming):\n",
    "    print(\"{0},你好吗? \".format(renming))\n",
    "    print(\"{},我最近很烦。\".format(renming))\n",
    "    \n",
    "    \n",
    "p = \"卧槽\"\n",
    "\n",
    "hello(p)"
   ]
  },
  {
   "cell_type": "code",
   "execution_count": 10,
   "metadata": {},
   "outputs": [
    {
     "name": "stdout",
     "output_type": "stream",
     "text": [
      "boom,你好吗? \n",
      "boom,我最近很烦。\n"
     ]
    }
   ],
   "source": [
    "b1 = \"boom\"\n",
    "hello(b1)"
   ]
  },
  {
   "cell_type": "code",
   "execution_count": 13,
   "metadata": {},
   "outputs": [
    {
     "name": "stdout",
     "output_type": "stream",
     "text": [
      "wmg,你好吗? \n",
      "wmg,我最近很烦。\n",
      "None\n"
     ]
    }
   ],
   "source": [
    "pp = hello(\"wmg\")\n",
    "print(pp)"
   ]
  },
  {
   "cell_type": "code",
   "execution_count": 14,
   "metadata": {},
   "outputs": [
    {
     "name": "stdout",
     "output_type": "stream",
     "text": [
      "Help on built-in function print in module builtins:\n",
      "\n",
      "print(...)\n",
      "    print(value, ..., sep=' ', end='\\n', file=sys.stdout, flush=False)\n",
      "    \n",
      "    Prints the values to a stream, or to sys.stdout by default.\n",
      "    Optional keyword arguments:\n",
      "    file:  a file-like object (stream); defaults to the current sys.stdout.\n",
      "    sep:   string inserted between values, default a space.\n",
      "    end:   string appended after the last value, default a newline.\n",
      "    flush: whether to forcibly flush the stream.\n",
      "\n"
     ]
    }
   ],
   "source": [
    "help(print)"
   ]
  },
  {
   "cell_type": "code",
   "execution_count": 29,
   "metadata": {},
   "outputs": [
    {
     "name": "stdout",
     "output_type": "stream",
     "text": [
      "1  \n",
      "2  4  \n",
      "3  6  9  \n",
      "4  8  12  16  \n",
      "5  10  15  20  25  \n",
      "6  12  18  24  30  36  \n",
      "7  14  21  28  35  42  49  \n",
      "8  16  24  32  40  48  56  64  \n",
      "9  18  27  36  45  54  63  72  81  \n"
     ]
    }
   ],
   "source": [
    "#九九乘法表\n",
    "#第一种写法\n",
    "for o in range(1,10):\n",
    "    for i in range(1,o + 1):\n",
    "        print(o * i, end =\"  \")\n",
    "    print()"
   ]
  },
  {
   "cell_type": "code",
   "execution_count": 33,
   "metadata": {},
   "outputs": [
    {
     "name": "stdout",
     "output_type": "stream",
     "text": [
      "1  \n",
      "2  4  \n",
      "3  6  9  \n",
      "4  8  12  16  \n",
      "5  10  15  20  25  \n",
      "6  12  18  24  30  36  \n",
      "7  14  21  28  35  42  49  \n",
      "8  16  24  32  40  48  56  64  \n",
      "9  18  27  36  45  54  63  72  81  \n"
     ]
    }
   ],
   "source": [
    "def jiujiu():\n",
    "    for o in range(1,10):\n",
    "        for i in range(1,o + 1):\n",
    "            print(o * i, end =\"  \")\n",
    "        print()\n",
    "    return None\n",
    "jiujiu()"
   ]
  },
  {
   "cell_type": "code",
   "execution_count": 35,
   "metadata": {},
   "outputs": [
    {
     "name": "stdout",
     "output_type": "stream",
     "text": [
      "1  \n",
      "2  4  \n",
      "3  6  9  \n",
      "4  8  12  16  \n",
      "5  10  15  20  25  \n",
      "6  12  18  24  30  36  \n",
      "7  14  21  28  35  42  49  \n",
      "8  16  24  32  40  48  56  64  \n",
      "9  18  27  36  45  54  63  72  81  \n",
      "1  \n",
      "2  4  \n",
      "3  6  9  \n",
      "4  8  12  16  \n",
      "5  10  15  20  25  \n",
      "6  12  18  24  30  36  \n",
      "7  14  21  28  35  42  49  \n",
      "8  16  24  32  40  48  56  64  \n",
      "9  18  27  36  45  54  63  72  81  \n"
     ]
    }
   ],
   "source": [
    "jiujiu()\n",
    "jiujiu()"
   ]
  },
  {
   "cell_type": "code",
   "execution_count": 36,
   "metadata": {},
   "outputs": [],
   "source": [
    "#函数之思想\n",
    "#改上面的函数\n",
    "def printline(line_num):\n",
    "    '''\n",
    "    line_num:代表行号\n",
    "    '''\n",
    "    for i in range(1, line_num + 1):\n",
    "        print(line_num * i, end = \"  \")\n",
    "    print()\n",
    "def jiu():\n",
    "    for o in range(1,10):\n",
    "        printline(o)\n",
    "    return None"
   ]
  },
  {
   "cell_type": "code",
   "execution_count": 37,
   "metadata": {},
   "outputs": [
    {
     "name": "stdout",
     "output_type": "stream",
     "text": [
      "1  \n",
      "2  4  \n",
      "3  6  9  \n",
      "4  8  12  16  \n",
      "5  10  15  20  25  \n",
      "6  12  18  24  30  36  \n",
      "7  14  21  28  35  42  49  \n",
      "8  16  24  32  40  48  56  64  \n",
      "9  18  27  36  45  54  63  72  81  \n"
     ]
    }
   ],
   "source": [
    "jiu()"
   ]
  },
  {
   "cell_type": "code",
   "execution_count": null,
   "metadata": {},
   "outputs": [],
   "source": []
  }
 ],
 "metadata": {
  "kernelspec": {
   "display_name": "Python 3",
   "language": "python",
   "name": "python3"
  },
  "language_info": {
   "codemirror_mode": {
    "name": "ipython",
    "version": 3
   },
   "file_extension": ".py",
   "mimetype": "text/x-python",
   "name": "python",
   "nbconvert_exporter": "python",
   "pygments_lexer": "ipython3",
   "version": "3.7.0"
  }
 },
 "nbformat": 4,
 "nbformat_minor": 2
}
