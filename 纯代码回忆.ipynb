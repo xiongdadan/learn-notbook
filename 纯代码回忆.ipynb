{
 "cells": [
  {
   "cell_type": "code",
   "execution_count": 2,
   "metadata": {},
   "outputs": [
    {
     "name": "stdout",
     "output_type": "stream",
     "text": [
      "hello woard\n"
     ]
    }
   ],
   "source": [
    "print(\"hello woard\")"
   ]
  },
  {
   "cell_type": "code",
   "execution_count": 4,
   "metadata": {},
   "outputs": [
    {
     "name": "stdout",
     "output_type": "stream",
     "text": [
      "21\n"
     ]
    }
   ],
   "source": [
    "a1a2 = 0b10101\n",
    "print(a1a2)"
   ]
  },
  {
   "cell_type": "code",
   "execution_count": 5,
   "metadata": {},
   "outputs": [
    {
     "name": "stdout",
     "output_type": "stream",
     "text": [
      "511\n"
     ]
    }
   ],
   "source": [
    "b1b2=0o777\n",
    "print(b1b2)"
   ]
  },
  {
   "cell_type": "code",
   "execution_count": 6,
   "metadata": {},
   "outputs": [
    {
     "name": "stdout",
     "output_type": "stream",
     "text": [
      "43981\n"
     ]
    }
   ],
   "source": [
    "c1c2=0xabcd\n",
    "print(c1c2)"
   ]
  },
  {
   "cell_type": "code",
   "execution_count": 8,
   "metadata": {},
   "outputs": [
    {
     "name": "stdout",
     "output_type": "stream",
     "text": [
      "3\n",
      "1\n",
      "6.5\n",
      "6\n",
      "1\n",
      "1\n",
      "-3\n",
      "-2.25\n"
     ]
    }
   ],
   "source": [
    "a = 1 + 2\n",
    "print(a)\n",
    "c = 100 - 99\n",
    "print(c)\n",
    "d = 13 / 2\n",
    "print(d)\n",
    "f = 13 // 2\n",
    "print(f)\n",
    "g = 13 % 2\n",
    "print(g)\n",
    "h = 9 % 4\n",
    "print(h)\n",
    "i = 9 % -4\n",
    "print(i)\n",
    "j = 9 / -4\n",
    "print(j)\n"
   ]
  },
  {
   "cell_type": "code",
   "execution_count": 11,
   "metadata": {},
   "outputs": [
    {
     "name": "stdout",
     "output_type": "stream",
     "text": [
      "False\n",
      "True\n",
      "False\n",
      "True\n",
      "True\n",
      "False\n",
      "False\n"
     ]
    }
   ],
   "source": [
    "a = 3==4\n",
    "print(a)\n",
    "a = 3 != 4\n",
    "print(a)\n",
    "# >,>=,<,<=\n",
    "print(3>=8)\n",
    "\n",
    "print('wocaonidaye'>'who is your dady')\n",
    "a = True\n",
    "b = True\n",
    "c = False\n",
    "aa = a and b\n",
    "print(aa)\n",
    "\n",
    "bb = a and c\n",
    "print(bb)\n",
    "\n",
    "\n",
    "cc = 100 and c\n",
    "print(cc)"
   ]
  },
  {
   "cell_type": "code",
   "execution_count": 12,
   "metadata": {},
   "outputs": [
    {
     "name": "stdout",
     "output_type": "stream",
     "text": [
      "False\n",
      "True\n"
     ]
    }
   ],
   "source": [
    "L = [1,2,3,4,5,6,7,]\n",
    "a = 9\n",
    "aa = a in L\n",
    "print(aa)\n",
    "aa = a not in L\n",
    "print(aa)"
   ]
  },
  {
   "cell_type": "code",
   "execution_count": 13,
   "metadata": {},
   "outputs": [
    {
     "name": "stdout",
     "output_type": "stream",
     "text": [
      "False\n",
      "False\n",
      "True\n"
     ]
    }
   ],
   "source": [
    "a = 1\n",
    "b = 1008611\n",
    "\n",
    "aa = a is b\n",
    "print(aa)\n",
    "\n",
    "\n",
    "a = 1006811\n",
    "b = 1006811\n",
    "aa = a is b\n",
    "print(aa)\n",
    "\n",
    "\n",
    "a = 5\n",
    "b=  5 \n",
    "aa = a is b\n",
    "print(aa)"
   ]
  },
  {
   "cell_type": "code",
   "execution_count": null,
   "metadata": {},
   "outputs": [],
   "source": [
    "gender = input(\"你的性别是？\")\n",
    "print(gender)\n",
    "if gender == \"男\":\n",
    "    print(\"我也是\")\n",
    "    print(\"再见\")\n",
    "else:\n",
    "    print(\"哦？是吗，出来一见\")\n",
    "    print(\"我请你吃饭\")"
   ]
  },
  {
   "cell_type": "code",
   "execution_count": 14,
   "metadata": {},
   "outputs": [
    {
     "name": "stdout",
     "output_type": "stream",
     "text": [
      "['False', 'None', 'True', 'and', 'as', 'assert', 'async', 'await', 'break', 'class', 'continue', 'def', 'del', 'elif', 'else', 'except', 'finally', 'for', 'from', 'global', 'if', 'import', 'in', 'is', 'lambda', 'nonlocal', 'not', 'or', 'pass', 'raise', 'return', 'try', 'while', 'with', 'yield']\n"
     ]
    }
   ],
   "source": [
    "import keyword \n",
    "print(keyword.kwlist)"
   ]
  },
  {
   "cell_type": "code",
   "execution_count": null,
   "metadata": {},
   "outputs": [],
   "source": []
  },
  {
   "cell_type": "code",
   "execution_count": null,
   "metadata": {},
   "outputs": [],
   "source": []
  },
  {
   "cell_type": "code",
   "execution_count": null,
   "metadata": {},
   "outputs": [],
   "source": []
  },
  {
   "cell_type": "code",
   "execution_count": null,
   "metadata": {},
   "outputs": [],
   "source": []
  }
 ],
 "metadata": {
  "kernelspec": {
   "display_name": "Python 3",
   "language": "python",
   "name": "python3"
  },
  "language_info": {
   "codemirror_mode": {
    "name": "ipython",
    "version": 3
   },
   "file_extension": ".py",
   "mimetype": "text/x-python",
   "name": "python",
   "nbconvert_exporter": "python",
   "pygments_lexer": "ipython3",
   "version": "3.7.0"
  }
 },
 "nbformat": 4,
 "nbformat_minor": 2
}
