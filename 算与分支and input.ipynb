{
 "cells": [
  {
   "cell_type": "markdown",
   "metadata": {},
   "source": [
    "# 算与分支\n",
    "    -比较运算符\n",
    "    "
   ]
  },
  {
   "cell_type": "code",
   "execution_count": 4,
   "metadata": {},
   "outputs": [
    {
     "name": "stdout",
     "output_type": "stream",
     "text": [
      "False\n",
      "True\n",
      "False\n",
      "False\n"
     ]
    }
   ],
   "source": [
    "#等于==\n",
    "a = 3==4\n",
    "print(a)\n",
    "# 不等于\n",
    "a = 3 != 4\n",
    "print(a)\n",
    "# 其他符号\n",
    "# >,>=,<,<=\n",
    "print(3>=8)\n",
    "\n",
    "print('wocaonidaye'>'你在说谁呢')"
   ]
  },
  {
   "cell_type": "markdown",
   "metadata": {},
   "source": [
    "# 赋值缩写\n",
    "   -这辈子不可能缩写\n",
    "       - x=x+1可以写为  x += 1\n",
    "   "
   ]
  },
  {
   "cell_type": "markdown",
   "metadata": {},
   "source": [
    "# 逻辑运算符\n",
    "  -对布尔类型变量或者值进行运算的符号\n",
    "    -and 逻辑 与\n",
    "    -or 或\n",
    "    -not; 非\n",
    "# 运算规则\n",
    "    -and视为乘法\n",
    "    -or为加法\n",
    "    -True为1，False为0\n",
    "    -最后结果为0，则为False"
   ]
  },
  {
   "cell_type": "code",
   "execution_count": 7,
   "metadata": {},
   "outputs": [
    {
     "name": "stdout",
     "output_type": "stream",
     "text": [
      "True\n",
      "False\n",
      "False\n"
     ]
    }
   ],
   "source": [
    "#逻辑实例\n",
    "a = True\n",
    "b = True\n",
    "c = False\n",
    "aa = a and b\n",
    "print(aa)\n",
    "\n",
    "bb = a and c\n",
    "print(bb)\n",
    "\n",
    "\n",
    "cc = 100 and c\n",
    "print(cc)"
   ]
  },
  {
   "cell_type": "markdown",
   "metadata": {},
   "source": [
    "# 逻辑运算的短路问题\n"
   ]
  },
  {
   "cell_type": "markdown",
   "metadata": {},
   "source": [
    "# 成员运算符\n",
    "\n",
    "    - in与not in"
   ]
  },
  {
   "cell_type": "code",
   "execution_count": 9,
   "metadata": {},
   "outputs": [
    {
     "name": "stdout",
     "output_type": "stream",
     "text": [
      "False\n",
      "True\n"
     ]
    }
   ],
   "source": [
    "L = [1,2,3,4,5,6,7,]\n",
    "a = 9\n",
    "aa = a in L\n",
    "print(aa)\n",
    "aa = a not in L\n",
    "print(aa)"
   ]
  },
  {
   "cell_type": "markdown",
   "metadata": {},
   "source": [
    "# 身份运算符\n",
    "   - is 和 is not"
   ]
  },
  {
   "cell_type": "code",
   "execution_count": 13,
   "metadata": {},
   "outputs": [
    {
     "name": "stdout",
     "output_type": "stream",
     "text": [
      "False\n",
      "False\n",
      "True\n"
     ]
    }
   ],
   "source": [
    "a = 1\n",
    "b = 1008611\n",
    "\n",
    "aa = a is b\n",
    "print(aa)\n",
    "\n",
    "\n",
    "a = 1006811\n",
    "b = 1006811\n",
    "aa = a is b\n",
    "print(aa)\n",
    "\n",
    "\n",
    "a = 5\n",
    "b=  5 # -5到256为true（py已经存储）\n",
    "aa = a is b\n",
    "print(aa)"
   ]
  },
  {
   "cell_type": "markdown",
   "metadata": {},
   "source": [
    "# 运算优先级"
   ]
  },
  {
   "cell_type": "markdown",
   "metadata": {},
   "source": [
    "# 程序结构\n",
    "    - 顺序\n",
    "    - 循环\n",
    "    - 分支"
   ]
  },
  {
   "cell_type": "markdown",
   "metadata": {},
   "source": [
    "# 分支结构\n",
    "   - if 条件表达式;\n",
    "      语句1\n",
    "      语句2\n",
    "      ...\n",
    "  -"
   ]
  },
  {
   "cell_type": "code",
   "execution_count": 28,
   "metadata": {},
   "outputs": [
    {
     "ename": "SyntaxError",
     "evalue": "invalid syntax (<ipython-input-28-a16a2b42cd43>, line 2)",
     "output_type": "error",
     "traceback": [
      "\u001b[1;36m  File \u001b[1;32m\"<ipython-input-28-a16a2b42cd43>\"\u001b[1;36m, line \u001b[1;32m2\u001b[0m\n\u001b[1;33m    if a ;\u001b[0m\n\u001b[1;37m         ^\u001b[0m\n\u001b[1;31mSyntaxError\u001b[0m\u001b[1;31m:\u001b[0m invalid syntax\n"
     ]
    }
   ],
   "source": [
    "a = \"来了，老弟\"\n",
    "if a ;\n",
    "    print(\"老大英雄联盟\")\n",
    "    print(\"但是不要太坑啊\")\n",
    "print(\"英雄联盟上线\")"
   ]
  },
  {
   "cell_type": "code",
   "execution_count": 27,
   "metadata": {},
   "outputs": [
    {
     "name": "stdout",
     "output_type": "stream",
     "text": [
      "老大英雄联盟\n",
      "但是不要太坑啊\n",
      "英雄联盟上线\n"
     ]
    }
   ],
   "source": [
    "a = \"  \"\n",
    "if a:#shift+冒号键（英文状态下）\n",
    "    print(\"老大英雄联盟\")\n",
    "    print(\"但是不要太坑啊\")\n",
    "print(\"英雄联盟上线\")"
   ]
  },
  {
   "cell_type": "code",
   "execution_count": 29,
   "metadata": {},
   "outputs": [
    {
     "name": "stdout",
     "output_type": "stream",
     "text": [
      "老大英雄联盟\n",
      "但是不要太坑啊\n",
      "英雄联盟上线\n"
     ]
    }
   ],
   "source": [
    "a = \"来了，老弟\"\n",
    "if a:\n",
    "    print(\"老大英雄联盟\")\n",
    "    print(\"但是不要太坑啊\")\n",
    "print(\"英雄联盟上线\")"
   ]
  },
  {
   "cell_type": "code",
   "execution_count": 30,
   "metadata": {},
   "outputs": [
    {
     "name": "stdout",
     "output_type": "stream",
     "text": [
      "haohaoxuexi\n",
      "我们去喝酒\n"
     ]
    }
   ],
   "source": [
    "age = 19\n",
    "if age > 16:\n",
    "    print(\"haohaoxuexi\")\n",
    "print(\"我们去喝酒\")"
   ]
  },
  {
   "cell_type": "markdown",
   "metadata": {},
   "source": [
    "# 双向分支\n",
    "- if...else...表达\n",
    "- 语法结构：\n",
    "       if 条件表达式:\n",
    "         语句1\n",
    "         语句2\n",
    "         ...\n",
    "       else:\n",
    "         语句1\n",
    "         语句2\n",
    "\n",
    "         ...\n",
    "# input的作用\n"
   ]
  },
  {
   "cell_type": "code",
   "execution_count": 2,
   "metadata": {},
   "outputs": [
    {
     "name": "stdout",
     "output_type": "stream",
     "text": [
      "你的性别是？男\n",
      "我也是\n",
      "再见\n"
     ]
    }
   ],
   "source": [
    "gender = input(\"你的性别是？\")\n",
    "\n",
    "if gender == \"男\":\n",
    "    print(\"我也是\")\n",
    "    print(\"再见\")\n",
    "else:\n",
    "    print(\"哦？是吗，出来一键\")\n",
    "    print(\"我请你吃饭\")"
   ]
  },
  {
   "cell_type": "code",
   "execution_count": 1,
   "metadata": {},
   "outputs": [
    {
     "name": "stdout",
     "output_type": "stream",
     "text": [
      "你的性别是？女\n",
      "女\n",
      "哦？是吗，出来一键\n",
      "我请你吃饭\n"
     ]
    }
   ],
   "source": [
    "gender = input(\"你的性别是？\")\n",
    "print(gender)\n",
    "if gender == \"男\":\n",
    "    print(\"我也是\")\n",
    "    print(\"再见\")\n",
    "else:\n",
    "    print(\"哦？是吗，出来一见\")\n",
    "    print(\"我请你吃饭\")\n",
    "    "
   ]
  },
  {
   "cell_type": "code",
   "execution_count": null,
   "metadata": {},
   "outputs": [],
   "source": []
  }
 ],
 "metadata": {
  "kernelspec": {
   "display_name": "Python 3",
   "language": "python",
   "name": "python3"
  },
  "language_info": {
   "codemirror_mode": {
    "name": "ipython",
    "version": 3
   },
   "file_extension": ".py",
   "mimetype": "text/x-python",
   "name": "python",
   "nbconvert_exporter": "python",
   "pygments_lexer": "ipython3",
   "version": "3.7.0"
  }
 },
 "nbformat": 4,
 "nbformat_minor": 2
}
