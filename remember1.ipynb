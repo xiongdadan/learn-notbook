{
 "cells": [
  {
   "cell_type": "code",
   "execution_count": 6,
   "metadata": {},
   "outputs": [
    {
     "name": "stdout",
     "output_type": "stream",
     "text": [
      "4\n"
     ]
    }
   ],
   "source": [
    "#2.5670%\n",
    "benqian = 100000\n",
    "year = 0\n",
    "while benqian < 110000:\n",
    "    benqian = benqian * (1 + 0.02567)\n",
    "    year += 1\n",
    "    \n",
    "    \n",
    "    \n",
    "print(year)"
   ]
  },
  {
   "cell_type": "code",
   "execution_count": 20,
   "metadata": {},
   "outputs": [
    {
     "name": "stdout",
     "output_type": "stream",
     "text": [
      "1  \n",
      "2  4  \n",
      "3  6  9  \n",
      "4  8  12  16  \n",
      "5  10  15  20  25  \n",
      "6  12  18  24  30  36  \n",
      "7  14  21  28  35  42  49  \n",
      "8  16  24  32  40  48  56  64  \n",
      "9  18  27  36  45  54  63  72  81  \n"
     ]
    }
   ],
   "source": [
    "# 乘法口诀表\n",
    "def chenfa ():\n",
    "    for i in range(1,10):\n",
    "        for j in range(1,i+1):\n",
    "            print(i*j,end=\"  \")\n",
    "        print()\n",
    "            \n",
    "chenfa()"
   ]
  },
  {
   "cell_type": "code",
   "execution_count": 49,
   "metadata": {},
   "outputs": [],
   "source": [
    "def chengfabiao():\n",
    "    for o in range(1,10):\n",
    "        for i in range(1,o + 1):\n",
    "            print(o ,\"X\",i,\"= \",o*i, end = \"   \")\n",
    "        print()"
   ]
  },
  {
   "cell_type": "code",
   "execution_count": 50,
   "metadata": {},
   "outputs": [
    {
     "name": "stdout",
     "output_type": "stream",
     "text": [
      "1 X 1 =  1   \n",
      "2 X 1 =  2   2 X 2 =  4   \n",
      "3 X 1 =  3   3 X 2 =  6   3 X 3 =  9   \n",
      "4 X 1 =  4   4 X 2 =  8   4 X 3 =  12   4 X 4 =  16   \n",
      "5 X 1 =  5   5 X 2 =  10   5 X 3 =  15   5 X 4 =  20   5 X 5 =  25   \n",
      "6 X 1 =  6   6 X 2 =  12   6 X 3 =  18   6 X 4 =  24   6 X 5 =  30   6 X 6 =  36   \n",
      "7 X 1 =  7   7 X 2 =  14   7 X 3 =  21   7 X 4 =  28   7 X 5 =  35   7 X 6 =  42   7 X 7 =  49   \n",
      "8 X 1 =  8   8 X 2 =  16   8 X 3 =  24   8 X 4 =  32   8 X 5 =  40   8 X 6 =  48   8 X 7 =  56   8 X 8 =  64   \n",
      "9 X 1 =  9   9 X 2 =  18   9 X 3 =  27   9 X 4 =  36   9 X 5 =  45   9 X 6 =  54   9 X 7 =  63   9 X 8 =  72   9 X 9 =  81   \n"
     ]
    }
   ],
   "source": [
    "chengfabiao()"
   ]
  }
 ],
 "metadata": {
  "kernelspec": {
   "display_name": "Python 3",
   "language": "python",
   "name": "python3"
  },
  "language_info": {
   "codemirror_mode": {
    "name": "ipython",
    "version": 3
   },
   "file_extension": ".py",
   "mimetype": "text/x-python",
   "name": "python",
   "nbconvert_exporter": "python",
   "pygments_lexer": "ipython3",
   "version": "3.7.0"
  }
 },
 "nbformat": 4,
 "nbformat_minor": 2
}
