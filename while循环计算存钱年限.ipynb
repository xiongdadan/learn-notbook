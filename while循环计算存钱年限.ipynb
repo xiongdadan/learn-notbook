{
 "cells": [
  {
   "cell_type": "markdown",
   "metadata": {},
   "source": [
    "# 接while循环"
   ]
  },
  {
   "cell_type": "code",
   "execution_count": 1,
   "metadata": {
    "scrolled": true
   },
   "outputs": [
    {
     "name": "stdout",
     "output_type": "stream",
     "text": [
      "11\n",
      "11\n"
     ]
    }
   ],
   "source": [
    "# 例如；年利率为6.7%，本利是每年翻滚，多少年年后本钱翻倍\n",
    "benqian = 10000\n",
    "year = 0#存放需要翻本的年数\n",
    "while benqian < 20000 :\n",
    "    benqian = benqian * (1 + 0.067)\n",
    "    year += 1#year = year + 1\n",
    "print(year)\n",
    "\n",
    "\n",
    "#下面这段循环没有执行，why？如何改正\n",
    "while benqian < 20000 :\n",
    "    benqian = benqian * (1 + 0.067)\n",
    "    year += 1#year = year + 1\n",
    "else:\n",
    "    print(year)"
   ]
  },
  {
   "cell_type": "code",
   "execution_count": 5,
   "metadata": {},
   "outputs": [
    {
     "name": "stdout",
     "output_type": "stream",
     "text": [
      "10670.0\n",
      "11384.89\n",
      "12147.677629999998\n",
      "12961.572031209998\n",
      "13829.997357301068\n",
      "14756.607180240238\n",
      "15745.299861316334\n",
      "16800.23495202453\n",
      "17925.85069381017\n",
      "19126.88269029545\n",
      "20408.383830545245\n",
      "11\n",
      "11384.89\n"
     ]
    }
   ],
   "source": [
    "#实验\n",
    "benqian = 10000\n",
    "year = 0#存放需要翻本的年数\n",
    "while benqian < 20000 :\n",
    "    benqian = benqian * (1 + 0.067)\n",
    "    year += 1#year = year + 1\n",
    "    print(benqian)\n",
    "print(year)\n",
    "\n",
    "\n",
    "\n",
    "\n",
    "\n",
    "\n",
    "\n",
    "#一个本利翻滚的验证计算，我自己理解一下\n",
    "a1 = 10670 * 1.067\n",
    "print(a1)"
   ]
  },
  {
   "cell_type": "markdown",
   "metadata": {},
   "source": [
    "# 函数\n",
    "- 代码的一种组织形式\n",
    "- 函数应该能完成一项特定的工作，而且一般一个函数完成一项工作\n",
    "- python 不分函数与过程\n",
    "- 函数的使用\n",
    "    - 函数的使用需要先定义\n",
    "    - 然后调用"
   ]
  },
  {
   "cell_type": "code",
   "execution_count": 5,
   "metadata": {},
   "outputs": [
    {
     "name": "stdout",
     "output_type": "stream",
     "text": [
      "函数定义完成\n"
     ]
    }
   ],
   "source": [
    "'''\n",
    "定义一个函数，只是定义的话不会执行\n",
    "1,def 关键字，后跟一个空格\n",
    "2,函数名自定义，起名规则约定俗成，大驼峰命名只给类用 \n",
    "3,后面括号和冒号不能省，括号内可以由参数\n",
    "4,函数内所有代码缩进\n",
    "'''\n",
    "def func():\n",
    "    print(\"劳动合同法规定，实习期是不算工作年限的\")\n",
    "    print(\"简单点，说话的方式简单点\")\n",
    "#缩进\n",
    "print(\"函数定义完成\")"
   ]
  },
  {
   "cell_type": "code",
   "execution_count": 4,
   "metadata": {},
   "outputs": [
    {
     "name": "stdout",
     "output_type": "stream",
     "text": [
      "劳动合同法规定，实习期是不算工作年限的\n",
      "简单点，说话的方式简单点\n"
     ]
    }
   ],
   "source": [
    "#函数调用\n",
    "# 直接写出名字，后面小括号不能省，括号内内容根据情况\n",
    "func()"
   ]
  },
  {
   "cell_type": "code",
   "execution_count": null,
   "metadata": {},
   "outputs": [],
   "source": []
  }
 ],
 "metadata": {
  "kernelspec": {
   "display_name": "Python 3",
   "language": "python",
   "name": "python3"
  },
  "language_info": {
   "codemirror_mode": {
    "name": "ipython",
    "version": 3
   },
   "file_extension": ".py",
   "mimetype": "text/x-python",
   "name": "python",
   "nbconvert_exporter": "python",
   "pygments_lexer": "ipython3",
   "version": "3.7.0"
  }
 },
 "nbformat": 4,
 "nbformat_minor": 2
}
