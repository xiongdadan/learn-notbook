{
 "cells": [
  {
   "cell_type": "markdown",
   "metadata": {},
   "source": [
    "# 分支结构\n",
    "- 的理解\n",
    "- 我要离职，如果是公司没有买社保，我可以直接离职\n",
    "- 如果不是，那我要提前30天提交辞呈"
   ]
  },
  {
   "cell_type": "code",
   "execution_count": null,
   "metadata": {},
   "outputs": [],
   "source": [
    "a1 = input(\"公司有没有买社保\")\n",
    "if a1 == \"有\":\n",
    "    print(\"请提前30天递交辞呈\")\n",
    "else:\n",
    "    print(\"那你直接走吧\")\n",
    "print(\"祝你好运\")"
   ]
  },
  {
   "cell_type": "code",
   "execution_count": 12,
   "metadata": {},
   "outputs": [
    {
     "name": "stdout",
     "output_type": "stream",
     "text": [
      "你的成绩为66\n",
      "合格\n"
     ]
    }
   ],
   "source": [
    "'''考试成绩判别'''\n",
    "a2 = input(\"你的成绩为\")\n",
    "a2 = int(a2)#字符串变数字\n",
    "if a2 >= 90:#不要忘记冒号\n",
    "    print(\"优秀\")\n",
    "if a2 >=80 and a2 < 90:\n",
    "    print(\"良\")\n",
    "if a2 >= 70 and a2 < 80:\n",
    "    print(\"中\")\n",
    "if a2 >= 60 and a2 < 70:\n",
    "    print(\"合格\")\n",
    "if a2 < 60:\n",
    "    print(\"你是什么情况\")"
   ]
  },
  {
   "cell_type": "markdown",
   "metadata": {},
   "source": [
    "# 多路分支\n",
    "- 最多执行一种情况\n",
    "- \n",
    "   if 条件表达式：\n",
    "   语句1\n",
    "   语句2\n",
    "   。。。。。。\n",
    "- elif 条件表达式：\n",
    "    语句1\n",
    "  elif 条件表达式：      #可以有很多条\n",
    "    语句1\n",
    "  \n",
    "- else:                   #可以没有\n",
    "    语句1"
   ]
  },
  {
   "cell_type": "code",
   "execution_count": 11,
   "metadata": {},
   "outputs": [
    {
     "name": "stdout",
     "output_type": "stream",
     "text": [
      "你的成绩为80\n",
      "良\n"
     ]
    }
   ],
   "source": [
    "a3 = input(\"你的成绩为\")\n",
    "a3 = int(a3)\n",
    "if a3 >= 90 :\n",
    "    print(\"优秀\")\n",
    "elif a3 >=80 :\n",
    "    print(\"良\")\n",
    "elif a3 >= 70 :\n",
    "    print(\"中\")\n",
    "elif a3 >= 60 :\n",
    "    print(\"合格\")\n",
    "else:\n",
    "    print(\"放学别走\")"
   ]
  },
  {
   "cell_type": "markdown",
   "metadata": {},
   "source": [
    "# if 语句\n",
    "- 可以嵌套使用，但不推荐，容易漏掉分支发生错误\n",
    "- Python 没有 switch 语句"
   ]
  },
  {
   "cell_type": "markdown",
   "metadata": {},
   "source": [
    "# 循环语句\n",
    "- for\n",
    "- while\n",
    "# for循环\n",
    "- 语法\n",
    "            for 变量 in 序列:\n",
    "                语句1"
   ]
  },
  {
   "cell_type": "code",
   "execution_count": 15,
   "metadata": {},
   "outputs": [
    {
     "name": "stdout",
     "output_type": "stream",
     "text": [
      "1\n",
      "11\n",
      "1\n",
      "101\n",
      "2\n",
      "12\n",
      "2\n",
      "102\n",
      "3\n",
      "13\n",
      "3\n",
      "103\n",
      "4\n",
      "14\n",
      "4\n",
      "104\n",
      "5\n",
      "15\n",
      "5\n",
      "105\n",
      "6\n",
      "16\n",
      "6\n",
      "106\n",
      "7\n",
      "17\n",
      "7\n",
      "107\n",
      "8\n",
      "18\n",
      "8\n",
      "108\n",
      "9\n",
      "19\n",
      "9\n",
      "109\n"
     ]
    }
   ],
   "source": [
    "# 列表\n",
    "list_one = {1,2,3,4,5,6,7,8,9}\n",
    "for shuzi in list_one:\n",
    "    print(shuzi)\n",
    "    print(shuzi + 10)\n",
    "    print(shuzi)\n",
    "    print(shuzi+100)"
   ]
  },
  {
   "cell_type": "code",
   "execution_count": 2,
   "metadata": {},
   "outputs": [
    {
     "ename": "SyntaxError",
     "evalue": "invalid syntax (<ipython-input-2-015a2f410294>, line 3)",
     "output_type": "error",
     "traceback": [
      "\u001b[1;36m  File \u001b[1;32m\"<ipython-input-2-015a2f410294>\"\u001b[1;36m, line \u001b[1;32m3\u001b[0m\n\u001b[1;33m    if  mianzi = \"熊大胆\"\u001b[0m\n\u001b[1;37m               ^\u001b[0m\n\u001b[1;31mSyntaxError\u001b[0m\u001b[1;31m:\u001b[0m invalid syntax\n"
     ]
    }
   ],
   "source": [
    "mianzi_list = [\"熊大胆\",\"megatron\",\"刘大拿\",\"王小静\"]\n",
    "for mianzi in mianzi_list:\n",
    "    if  mianzi = \"熊大胆\"#狗日的冒号怎么老是忘记了呢？\n",
    "        print(\"确认过眼神\")\n",
    "    else:\n",
    "        print(\"你不是我想要的人\")"
   ]
  },
  {
   "cell_type": "code",
   "execution_count": 6,
   "metadata": {},
   "outputs": [
    {
     "name": "stdout",
     "output_type": "stream",
     "text": [
      "确认过眼神\n",
      "你不是我想要的人\n",
      "你不是我想要的人\n",
      "你不是我想要的人\n"
     ]
    }
   ],
   "source": [
    "mianzi_list = [\"熊大胆\",\"megatron\",\"刘大拿\",\"王小静\"]\n",
    "for mianzi in mianzi_list:\n",
    "    if  mianzi == \"熊大胆\":\n",
    "        print(\"确认过眼神\")\n",
    "    else:\n",
    "        print(\"你不是我想要的人\")"
   ]
  },
  {
   "cell_type": "code",
   "execution_count": 8,
   "metadata": {},
   "outputs": [
    {
     "name": "stdout",
     "output_type": "stream",
     "text": [
      "确认过眼神\n",
      "你不是我想要的人\n",
      "你不是我想要的人\n",
      "你不是我想要的人\n"
     ]
    }
   ],
   "source": [
    "mianzi_list = [\"熊大胆\",\"megatron\",\"刘大拿\",\"王小静\"]\n",
    "for mianzi in mianzi_list:\n",
    "    if  mianzi == \"熊大胆\":\n",
    "        print(\"确认过眼神\")\n",
    "    else:\n",
    "        print(\"你不是我想要的人\")"
   ]
  },
  {
   "cell_type": "markdown",
   "metadata": {},
   "source": [
    "# for-else语句\n",
    "- 如果没有在列表中或者列表结束，打印提示语句。"
   ]
  },
  {
   "cell_type": "code",
   "execution_count": 10,
   "metadata": {},
   "outputs": [
    {
     "name": "stdout",
     "output_type": "stream",
     "text": [
      "确认过眼神\n",
      "不好意思搞错了\n",
      "不好意思搞错了\n",
      "不好意思搞错了\n",
      "v绿绿绿绿\n"
     ]
    }
   ],
   "source": [
    "mianzi_list = [\"熊大胆\",\"megatron\",\"刘大拿\",\"王小静\"]\n",
    "for mianzi in mianzi_list:\n",
    "    if  mianzi == \"熊大胆\":\n",
    "        print(\"确认过眼神\")\n",
    "    else:\n",
    "        print(\"不好意思搞错了\")\n",
    "else :\n",
    "    print(\"v绿绿绿绿\")\n",
    "      "
   ]
  },
  {
   "cell_type": "markdown",
   "metadata": {},
   "source": [
    "# break, continue, pass\n",
    "- break: 无条件结束整个循环，简称循环猝死"
   ]
  },
  {
   "cell_type": "code",
   "execution_count": 13,
   "metadata": {},
   "outputs": [
    {
     "name": "stdout",
     "output_type": "stream",
     "text": [
      "我在\n"
     ]
    }
   ],
   "source": [
    "#在一个数字队列中，寻找到一个数字，打印出来即可，并且结束\n",
    "a4_list = [1,2,3,4,5,6,18,7,8,9,10,12,13,15,19,18,59,48,78]\n",
    "for a4 in a4_list :\n",
    "    if a4 == 18 :\n",
    "        print(\"我在\")\n",
    "        break\n",
    "    "
   ]
  },
  {
   "cell_type": "markdown",
   "metadata": {},
   "source": [
    "#### "
   ]
  },
  {
   "cell_type": "code",
   "execution_count": 15,
   "metadata": {},
   "outputs": [
    {
     "name": "stdout",
     "output_type": "stream",
     "text": [
      "1\n",
      "2\n",
      "3\n",
      "4\n",
      "5\n",
      "6\n",
      "我在\n"
     ]
    }
   ],
   "source": [
    "#break\n",
    "#在一个数字队列中，寻找到一个数字，打印出来即可，并且结束\n",
    "a4_list = [1,2,3,4,5,6,18,7,8,9,10,12,13,15,19,18,59,48,78]\n",
    "for a4 in a4_list :\n",
    "    if a4 == 18 :\n",
    "        print(\"我在\")\n",
    "        break\n",
    "    else :\n",
    "        print(a4)#好像不要也是可以的哈"
   ]
  },
  {
   "cell_type": "code",
   "execution_count": 24,
   "metadata": {},
   "outputs": [
    {
     "name": "stdout",
     "output_type": "stream",
     "text": [
      "2\n",
      "4\n",
      "6\n",
      "8\n",
      "10\n",
      "2\n",
      "4\n",
      "6\n",
      "8\n",
      "10\n",
      "2\n",
      "4\n",
      "6\n",
      "8\n",
      "10\n"
     ]
    }
   ],
   "source": [
    "# continue\n",
    "# 例如在数字10-1中，寻找所有的偶数并打印\n",
    "a5_list = [1,2,3,4,5,6,7,8,9,10]\n",
    "for a5 in a5_list :\n",
    "    if a5 % 2 == 0:#完蛋了，这个冒号怕是要上天\n",
    "        print(a5)\n",
    "    else :\n",
    "        continue\n",
    "#另一种思路\n",
    "for a5 in a5_list :\n",
    "    if a5 % 2 == 1:\n",
    "        continue\n",
    "    print(a5)\n",
    "# 我的写法想法\n",
    "for a5 in a5_list :\n",
    "    if a5 % 2 == 1:\n",
    "        continue\n",
    "    else:\n",
    "        print(a5)"
   ]
  },
  {
   "cell_type": "markdown",
   "metadata": {},
   "source": [
    "# pass\n",
    "- 跟在if 表达式语句下面让if下面有点东西缩进占位\n",
    "- 占位后无副作用"
   ]
  },
  {
   "cell_type": "code",
   "execution_count": 29,
   "metadata": {},
   "outputs": [
    {
     "ename": "IndentationError",
     "evalue": "expected an indented block (<ipython-input-29-ee859f45a3f5>, line 4)",
     "output_type": "error",
     "traceback": [
      "\u001b[1;36m  File \u001b[1;32m\"<ipython-input-29-ee859f45a3f5>\"\u001b[1;36m, line \u001b[1;32m4\u001b[0m\n\u001b[1;33m    else:\u001b[0m\n\u001b[1;37m       ^\u001b[0m\n\u001b[1;31mIndentationError\u001b[0m\u001b[1;31m:\u001b[0m expected an indented block\n"
     ]
    }
   ],
   "source": [
    "age = 18\n",
    "if age >= 18 :\n",
    "#没想好要打印什么\n",
    "else:\n",
    "    print(\"英雄联盟期待你的成长\")"
   ]
  },
  {
   "cell_type": "code",
   "execution_count": 36,
   "metadata": {},
   "outputs": [
    {
     "name": "stdout",
     "output_type": "stream",
     "text": [
      "英雄联盟期待你的成长\n",
      "1\n",
      "2\n",
      "3\n",
      "4\n",
      "5\n",
      "6\n",
      "7\n",
      "8\n",
      "9\n",
      "4756\n",
      "4865\n",
      "48645\n",
      "48612\n"
     ]
    }
   ],
   "source": [
    "age = 18\n",
    "if age > 18 :\n",
    "    pass\n",
    "else:\n",
    "    print(\"英雄联盟期待你的成长\")\n",
    "#第二个意思\n",
    "ages = [1,2,3,4,5,6,7,8,9,4756,4865,48645,48612]\n",
    "for age in ages:\n",
    "    pass\n",
    "    print(age)"
   ]
  },
  {
   "cell_type": "markdown",
   "metadata": {},
   "source": [
    "# range函数\n",
    "- 生成有序数列\n",
    "- 生成的数字队列可以制定"
   ]
  },
  {
   "cell_type": "code",
   "execution_count": 38,
   "metadata": {},
   "outputs": [
    {
     "name": "stdout",
     "output_type": "stream",
     "text": [
      "1\n",
      "2\n",
      "3\n",
      "4\n",
      "5\n",
      "6\n",
      "7\n",
      "8\n",
      "9\n",
      "10\n",
      "11\n",
      "12\n",
      "13\n",
      "14\n",
      "15\n",
      "16\n",
      "17\n",
      "18\n",
      "19\n",
      "20\n",
      "21\n",
      "22\n",
      "23\n",
      "24\n",
      "25\n",
      "26\n",
      "27\n",
      "28\n",
      "29\n",
      "30\n",
      "31\n",
      "32\n",
      "33\n",
      "34\n",
      "35\n",
      "36\n",
      "37\n",
      "38\n",
      "39\n",
      "40\n",
      "41\n",
      "42\n",
      "43\n",
      "44\n",
      "45\n",
      "46\n",
      "47\n",
      "48\n",
      "49\n",
      "50\n",
      "51\n",
      "52\n",
      "53\n",
      "54\n",
      "55\n",
      "56\n",
      "57\n",
      "58\n",
      "59\n",
      "60\n",
      "61\n",
      "62\n",
      "63\n",
      "64\n",
      "65\n",
      "66\n",
      "67\n",
      "68\n",
      "69\n",
      "70\n",
      "71\n",
      "72\n",
      "73\n",
      "74\n",
      "75\n",
      "76\n",
      "77\n",
      "78\n",
      "79\n",
      "80\n",
      "81\n",
      "82\n",
      "83\n",
      "84\n",
      "85\n",
      "86\n",
      "87\n",
      "88\n",
      "89\n",
      "90\n",
      "91\n",
      "92\n",
      "93\n",
      "94\n",
      "95\n",
      "96\n",
      "97\n",
      "98\n",
      "99\n",
      "100\n"
     ]
    }
   ],
   "source": [
    "#生成1到100的数字序列\n",
    "a6_list = range(1,101)#左边包括，右边不包括\n",
    "for a6 in a6_list :\n",
    "    print(a6)"
   ]
  },
  {
   "cell_type": "code",
   "execution_count": 40,
   "metadata": {},
   "outputs": [
    {
     "name": "stdout",
     "output_type": "stream",
     "text": [
      "1\n",
      "2\n",
      "3\n",
      "4\n",
      "5\n",
      "6\n",
      "7\n",
      "8\n",
      "9\n"
     ]
    }
   ],
   "source": [
    " #直接使用\n",
    "for a7 in range(1,10):\n",
    "    print(a7)"
   ]
  },
  {
   "cell_type": "markdown",
   "metadata": {},
   "source": [
    "# while循环\n",
    "- 一个循环语句\n",
    "- 表示当条件成立的时候，就循环，适应与不知道具体循环次数，但能确定条件就能循环\n",
    "- while语法：\n",
    "         -while 条件表达式：\n",
    "           或者-while 条件表达式：\n",
    "                    语句\n",
    "                else：\n",
    "                    语句"
   ]
  },
  {
   "cell_type": "code",
   "execution_count": null,
   "metadata": {},
   "outputs": [],
   "source": []
  }
 ],
 "metadata": {
  "kernelspec": {
   "display_name": "Python 3",
   "language": "python",
   "name": "python3"
  },
  "language_info": {
   "codemirror_mode": {
    "name": "ipython",
    "version": 3
   },
   "file_extension": ".py",
   "mimetype": "text/x-python",
   "name": "python",
   "nbconvert_exporter": "python",
   "pygments_lexer": "ipython3",
   "version": "3.7.0"
  }
 },
 "nbformat": 4,
 "nbformat_minor": 2
}
