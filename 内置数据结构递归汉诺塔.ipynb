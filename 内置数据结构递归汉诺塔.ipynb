{
 "cells": [
  {
   "cell_type": "markdown",
   "metadata": {},
   "source": [
    "# 汉诺塔\n",
    " - 每次只能移动一个盘子\n",
    " - 任何一次移动，三个塔的状态必须是小盘子在上，大盘子在下\n",
    " \n",
    " - 方法：\n",
    "     - 1，n = 1: 直接把A上的盘子移动到C，A->C\n",
    "     - 2, n = 2: A->B, \n",
    "             A->C\n",
    "             B->C\n",
    "    - 3, n = 3:把A上的两个盘子，通过c放在b上，通过递归函数实现\n",
    "            把A上的最大盘子放到c上\n",
    "            把b上的两个盘子借助于a放到c上，调用递归函数\n",
    "    - 4， n = n: 把A上n-1个盘子借助于c移动到B，调用递归\n",
    "            A->C\n",
    "            把B上n-1个盘子借助a放到C上，调用递归\n",
    "            "
   ]
  },
  {
   "cell_type": "code",
   "execution_count": 2,
   "metadata": {},
   "outputs": [
    {
     "name": "stdout",
     "output_type": "stream",
     "text": [
      "A --> C\n"
     ]
    }
   ],
   "source": [
    "def hanno(n,a,b,c):\n",
    "    '''\n",
    "    汉诺她的递归函数实现\n",
    "    n:代表盘子数\n",
    "    a:代表第一个开始塔\n",
    "    b:代表第二个过渡塔\n",
    "    c;代表第三个目的塔\n",
    "    '''\n",
    "    if n == 1:\n",
    "        print(a,\"-->\",c)\n",
    "        return None\n",
    "    \n",
    "    if n == 2:# 没有这一个if也能行，这是为什么呢？\n",
    "        print(a,\"-->\",b)\n",
    "        print(a,\"-->\",c)\n",
    "        print(b,\"-->\",c)\n",
    "        return None\n",
    "    \n",
    "    \n",
    "    hanno(n-1,a,c,b)\n",
    "    print(a,\"-->\",c)\n",
    "    hanno(n-1,b,a,c)\n",
    "    \n",
    "a = \"A\"\n",
    "b = \"B\"\n",
    "c = \"C\"\n",
    "n = 1\n",
    "hanno(n,a,b,c)"
   ]
  },
  {
   "cell_type": "code",
   "execution_count": 3,
   "metadata": {},
   "outputs": [
    {
     "name": "stdout",
     "output_type": "stream",
     "text": [
      "A --> B\n",
      "A --> C\n",
      "B --> C\n"
     ]
    }
   ],
   "source": [
    "n=2\n",
    "hanno(n,a,b,c)"
   ]
  },
  {
   "cell_type": "code",
   "execution_count": 4,
   "metadata": {},
   "outputs": [
    {
     "name": "stdout",
     "output_type": "stream",
     "text": [
      "A --> C\n",
      "A --> B\n",
      "C --> B\n",
      "A --> C\n",
      "B --> A\n",
      "B --> C\n",
      "A --> C\n"
     ]
    }
   ],
   "source": [
    "n = 3\n",
    "hanno(n,a,b,c)"
   ]
  },
  {
   "cell_type": "code",
   "execution_count": 5,
   "metadata": {},
   "outputs": [
    {
     "name": "stdout",
     "output_type": "stream",
     "text": [
      "A --> C\n",
      "A --> B\n",
      "C --> B\n",
      "A --> C\n",
      "B --> A\n",
      "B --> C\n",
      "A --> C\n",
      "A --> B\n",
      "C --> B\n",
      "C --> A\n",
      "B --> A\n",
      "C --> B\n",
      "A --> C\n",
      "A --> B\n",
      "C --> B\n",
      "A --> C\n",
      "B --> A\n",
      "B --> C\n",
      "A --> C\n",
      "B --> A\n",
      "C --> B\n",
      "C --> A\n",
      "B --> A\n",
      "B --> C\n",
      "A --> C\n",
      "A --> B\n",
      "C --> B\n",
      "A --> C\n",
      "B --> A\n",
      "B --> C\n",
      "A --> C\n"
     ]
    }
   ],
   "source": [
    "n = 5\n",
    "hanno(n,a,b,c)"
   ]
  },
  {
   "cell_type": "code",
   "execution_count": null,
   "metadata": {},
   "outputs": [],
   "source": []
  },
  {
   "cell_type": "code",
   "execution_count": null,
   "metadata": {},
   "outputs": [],
   "source": []
  },
  {
   "cell_type": "code",
   "execution_count": null,
   "metadata": {},
   "outputs": [],
   "source": []
  }
 ],
 "metadata": {
  "kernelspec": {
   "display_name": "Python 3",
   "language": "python",
   "name": "python3"
  },
  "language_info": {
   "codemirror_mode": {
    "name": "ipython",
    "version": 3
   },
   "file_extension": ".py",
   "mimetype": "text/x-python",
   "name": "python",
   "nbconvert_exporter": "python",
   "pygments_lexer": "ipython3",
   "version": "3.7.0"
  }
 },
 "nbformat": 4,
 "nbformat_minor": 2
}
